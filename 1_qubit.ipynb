{
  "nbformat": 4,
  "nbformat_minor": 0,
  "metadata": {
    "colab": {
      "provenance": []
    },
    "kernelspec": {
      "name": "python3",
      "display_name": "Python 3"
    },
    "language_info": {
      "name": "python"
    }
  },
  "cells": [
    {
      "cell_type": "code",
      "source": [
        "# ===============================\n",
        "# Qiskit 1-Qubit Assignment\n",
        "# Author: Sanjay-dev22 (SANJAY S - 22MIS0480)\n",
        "# Forked from: arunpandianj/Qiskit_1-qubit\n",
        "# ===============================\n",
        "\n",
        "# Install Qiskit in Colab\n",
        "!pip install qiskit qiskit-aer --upgrade -q\n",
        "!pip install pylatexenc\n",
        "\n",
        "# Import libraries\n",
        "from qiskit import QuantumCircuit\n",
        "from qiskit_aer import AerSimulator\n",
        "from IPython.display import display\n",
        "\n",
        "# ===============================\n",
        "# Original Program\n",
        "# ===============================\n",
        "def main():\n",
        "    qc = QuantumCircuit(1, 1)\n",
        "    qc.h(0)\n",
        "    qc.measure(0, 0)\n",
        "\n",
        "    print(\"=== Original Circuit ===\")\n",
        "    display(qc.draw(output='mpl'))\n",
        "    print(\"Explanation: 1 qubit, Hadamard applied to create superposition, measured once.\")\n",
        "\n",
        "    simulator = AerSimulator()\n",
        "    job = simulator.run(qc, shots=10)\n",
        "    result = job.result()\n",
        "    counts = result.get_counts(qc)\n",
        "    print(\"Measurement Result (shots=10):\", counts)\n",
        "\n",
        "# ===============================\n",
        "# Run All Sections\n",
        "# ===============================\n",
        "if __name__ == \"__main__\":\n",
        "    main()\n",
        "\n"
      ],
      "metadata": {
        "colab": {
          "base_uri": "https://localhost:8080/",
          "height": 260
        },
        "id": "CefGC4PumzMc",
        "outputId": "a5ee714b-ba7a-4509-fb7a-1380b10bf486"
      },
      "execution_count": null,
      "outputs": [
        {
          "output_type": "stream",
          "name": "stdout",
          "text": [
            "Requirement already satisfied: pylatexenc in /usr/local/lib/python3.12/dist-packages (2.10)\n",
            "=== Original Circuit ===\n"
          ]
        },
        {
          "output_type": "display_data",
          "data": {
            "text/plain": [
              "<Figure size 269.064x200.667 with 1 Axes>"
            ],
            "image/png": "[encoded data removed]"
          },
          "metadata": {}
        },
        {
          "output_type": "stream",
          "name": "stdout",
          "text": [
            "Explanation: 1 qubit, Hadamard applied to create superposition, measured once.\n",
            "Measurement Result (shots=10): {'1': 4, '0': 6}\n"
          ]
        }
      ]
    },
    {
      "cell_type": "code",
      "source": [
        "# ===============================\n",
        "# Task 1 — Increase shots to 100\n",
        "# ===============================\n",
        "def task1():\n",
        "    qc = QuantumCircuit(1, 1)\n",
        "    qc.h(0)\n",
        "    qc.measure(0, 0)\n",
        "\n",
        "    print(\"\\n=== Task 1: Single Qubit, 100 Shots ===\")\n",
        "    display(qc.draw(output='mpl'))\n",
        "    print(\"Explanation: Increasing shots to 100 to observe better statistical distribution in superposition.\")\n",
        "\n",
        "    simulator = AerSimulator()\n",
        "    job = simulator.run(qc, shots=100)\n",
        "    result = job.result()\n",
        "    counts = result.get_counts(qc)\n",
        "    print(\"Measurement Result (shots=100):\", counts)\n",
        "\n",
        "# -----------------------------\n",
        "# Run All\n",
        "# -----------------------------\n",
        "if __name__ == \"__main__\":\n",
        "    task1()"
      ],
      "metadata": {
        "id": "sIoRJNFD88Wq",
        "colab": {
          "base_uri": "https://localhost:8080/",
          "height": 260
        },
        "outputId": "96e7af17-a828-4416-e53a-e035daff9590"
      },
      "execution_count": null,
      "outputs": [
        {
          "output_type": "stream",
          "name": "stdout",
          "text": [
            "\n",
            "=== Task 1: Single Qubit, 100 Shots ===\n"
          ]
        },
        {
          "output_type": "display_data",
          "data": {
            "text/plain": [
              "<Figure size 269.064x200.667 with 1 Axes>"
            ],
            "image/png": "[encoded data removed]"
          },
          "metadata": {}
        },
        {
          "output_type": "stream",
          "name": "stdout",
          "text": [
            "Explanation: Increasing shots to 100 to observe better statistical distribution in superposition.\n",
            "Measurement Result (shots=100): {'0': 58, '1': 42}\n"
          ]
        }
      ]
    },
    {
      "cell_type": "code",
      "source": [
        "# ===============================\n",
        "# Task 2 — 2 Qubits, Hadamard on both\n",
        "# ===============================\n",
        "def task2():\n",
        "    qc = QuantumCircuit(2, 2)\n",
        "    qc.h(0)\n",
        "    qc.h(1)\n",
        "    qc.measure([0, 1], [0, 1])\n",
        "\n",
        "    print(\"\\n=== Task 2: 2 Qubits, H on Both ===\")\n",
        "    display(qc.draw(output='mpl'))\n",
        "    print(\"Explanation: Two qubits in superposition, all 4 outcomes (00, 01, 10, 11) possible with roughly equal probability.\")\n",
        "\n",
        "    simulator = AerSimulator()\n",
        "    job = simulator.run(qc, shots=100)\n",
        "    result = job.result()\n",
        "    counts = result.get_counts(qc)\n",
        "    print(\"Measurement Result:\", counts)\n",
        "\n",
        "# -----------------------------\n",
        "# Run\n",
        "# -----------------------------\n",
        "if __name__ == \"__main__\":\n",
        "    task2()"
      ],
      "metadata": {
        "colab": {
          "base_uri": "https://localhost:8080/",
          "height": 324
        },
        "id": "zMSCRySFeRCr",
        "outputId": "f2a3dde8-6eb1-4cfb-9138-7064e985daa1"
      },
      "execution_count": null,
      "outputs": [
        {
          "output_type": "stream",
          "name": "stdout",
          "text": [
            "\n",
            "=== Task 2: 2 Qubits, H on Both ===\n"
          ]
        },
        {
          "output_type": "display_data",
          "data": {
            "text/plain": [
              "<Figure size 370.906x284.278 with 1 Axes>"
            ],
            "image/png": "[encoded data removed]"
          },
          "metadata": {}
        },
        {
          "output_type": "stream",
          "name": "stdout",
          "text": [
            "Explanation: Two qubits in superposition, all 4 outcomes (00, 01, 10, 11) possible with roughly equal probability.\n",
            "Measurement Result: {'01': 23, '00': 29, '10': 23, '11': 25}\n"
          ]
        }
      ]
    },
    {
      "cell_type": "code",
      "source": [
        "# ===============================\n",
        "# Task 3 — Replace H with X gate\n",
        "# ===============================\n",
        "def task3():\n",
        "    qc = QuantumCircuit(1, 1)\n",
        "    qc.x(0)\n",
        "    qc.measure(0, 0)\n",
        "\n",
        "    print(\"\\n=== Task 3: Single Qubit, X Gate ===\")\n",
        "    display(qc.draw(output='mpl'))\n",
        "    print(\"Explanation: X gate flips the qubit from |0> to |1>, measurement always gives '1'.\")\n",
        "\n",
        "    simulator = AerSimulator()\n",
        "    job = simulator.run(qc, shots=100)\n",
        "    result = job.result()\n",
        "    counts = result.get_counts(qc)\n",
        "    print(\"Measurement Result:\", counts)\n",
        "\n",
        "# -----------------------------\n",
        "# Run\n",
        "# -----------------------------\n",
        "if __name__ == \"__main__\":\n",
        "    task3()"
      ],
      "metadata": {
        "colab": {
          "base_uri": "https://localhost:8080/",
          "height": 260
        },
        "id": "xB0U-__ZeTe-",
        "outputId": "aabe2348-421b-431a-e101-b476312b3d82"
      },
      "execution_count": null,
      "outputs": [
        {
          "output_type": "stream",
          "name": "stdout",
          "text": [
            "\n",
            "=== Task 3: Single Qubit, X Gate ===\n"
          ]
        },
        {
          "output_type": "display_data",
          "data": {
            "text/plain": [
              "<Figure size 269.064x200.667 with 1 Axes>"
            ],
            "image/png": "[encoded data removed]"
          },
          "metadata": {}
        },
        {
          "output_type": "stream",
          "name": "stdout",
          "text": [
            "Explanation: X gate flips the qubit from |0> to |1>, measurement always gives '1'.\n",
            "Measurement Result: {'1': 100}\n"
          ]
        }
      ]
    }
  ]
}